{
  "nbformat": 4,
  "nbformat_minor": 0,
  "metadata": {
    "colab": {
      "provenance": []
    },
    "kernelspec": {
      "name": "python3",
      "display_name": "Python 3"
    },
    "language_info": {
      "name": "python"
    }
  },
  "cells": [
    {
      "cell_type": "code",
      "execution_count": null,
      "metadata": {
        "colab": {
          "base_uri": "https://localhost:8080/",
          "height": 718
        },
        "id": "DWutOYrlog23",
        "outputId": "2e424498-dacf-48c7-a3a2-63a7712f6c86"
      },
      "outputs": [
        {
          "output_type": "display_data",
          "data": {
            "text/plain": [
              "<Figure size 640x480 with 2 Axes>"
            ],
            "image/png": "[encoded data removed]"
          },
          "metadata": {}
        },
        {
          "output_type": "stream",
          "name": "stdout",
          "text": [
            "Negative Log Likelihood Loss: 0.5682068716714531\n",
            "Accuracy: 0.842391304347826\n",
            "Classification Report:\n",
            "                  precision    recall  f1-score   support\n",
            "\n",
            "No Heart Disease       0.79      0.84      0.82        77\n",
            "   Heart Disease       0.88      0.84      0.86       107\n",
            "\n",
            "        accuracy                           0.84       184\n",
            "       macro avg       0.84      0.84      0.84       184\n",
            "    weighted avg       0.84      0.84      0.84       184\n",
            "\n",
            "Negative Log Likelihood Loss: 0.31634511008107585\n"
          ]
        }
      ],
      "source": [
        "import pandas as pd\n",
        "from sklearn.model_selection import train_test_split\n",
        "from sklearn.preprocessing import LabelEncoder, StandardScaler\n",
        "from sklearn.naive_bayes import GaussianNB\n",
        "from sklearn.metrics import accuracy_score, classification_report, confusion_matrix, ConfusionMatrixDisplay, log_loss\n",
        "import matplotlib.pyplot as plt\n",
        "\n",
        "# Load the dataset\n",
        "file_path = 'https://raw.githubusercontent.com/mwardeh-png/Intro-to-ML/main/heart%20(1).csv'\n",
        "data = pd.read_csv(file_path)\n",
        "\n",
        "# Preparing the data for modeling\n",
        "# Encoding categorical features\n",
        "label_encoders = {}\n",
        "for column in ['Sex', 'ChestPainType', 'RestingECG', 'ExerciseAngina', 'ST_Slope']:\n",
        "    le = LabelEncoder()\n",
        "    data[column] = le.fit_transform(data[column])\n",
        "    label_encoders[column] = le\n",
        "\n",
        "# Splitting data into features and target variable\n",
        "X = data.drop(columns='HeartDisease')\n",
        "y = data['HeartDisease']\n",
        "\n",
        "# Feature Scaling\n",
        "scaler = StandardScaler()\n",
        "X = scaler.fit_transform(X)\n",
        "\n",
        "# Splitting the data into training and testing sets\n",
        "X_train, X_test, y_train, y_test = train_test_split(X, y, test_size=0.2, random_state=42)\n",
        "\n",
        "# Training the Naive Bayes classifier\n",
        "model = GaussianNB()\n",
        "model.fit(X_train, y_train)\n",
        "\n",
        "# Predicting on the test set\n",
        "y_pred = model.predict(X_test)\n",
        "y_pred_proba = model.predict_proba(X_test)\n",
        "\n",
        "# Evaluating the model\n",
        "accuracy = accuracy_score(y_test, y_pred)\n",
        "classification_rep = classification_report(y_test, y_pred, target_names=[\"No Heart Disease\", \"Heart Disease\"])\n",
        "conf_matrix = confusion_matrix(y_test, y_pred)\n",
        "loss = log_loss(y_test, y_pred_proba)\n",
        "\n",
        "# Displaying the confusion matrix\n",
        "disp = ConfusionMatrixDisplay(confusion_matrix=conf_matrix, display_labels=model.classes_)\n",
        "disp.plot(cmap=plt.cm.Blues)\n",
        "plt.title(\"Confusion Matrix\")\n",
        "plt.show()\n",
        "\n",
        "# Displaying the loss (negative log likelihood)\n",
        "print(f\"Negative Log Likelihood Loss: {loss}\")\n",
        "\n",
        "# Displaying the classification report and accuracy\n",
        "print(f\"Accuracy: {accuracy}\")\n",
        "print(\"Classification Report:\")\n",
        "print(classification_rep)\n",
        "\n"
      ]
    },
    {
      "cell_type": "code",
      "source": [
        "loss"
      ],
      "metadata": {
        "colab": {
          "base_uri": "https://localhost:8080/"
        },
        "id": "XBNZDhSX06-P",
        "outputId": "27482eae-b86a-4bb0-89de-7b574ad63676"
      },
      "execution_count": null,
      "outputs": [
        {
          "output_type": "execute_result",
          "data": {
            "text/plain": [
              "0.6880108991825613"
            ]
          },
          "metadata": {},
          "execution_count": 15
        }
      ]
    },
    {
      "cell_type": "markdown",
      "source": [
        "# Draft"
      ],
      "metadata": {
        "id": "qarAZDx92_Vl"
      }
    },
    {
      "cell_type": "code",
      "source": [],
      "metadata": {
        "id": "iExl8PBr3n9o"
      },
      "execution_count": null,
      "outputs": []
    }
  ]
}